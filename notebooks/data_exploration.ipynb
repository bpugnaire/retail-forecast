{
 "cells": [
  {
   "cell_type": "markdown",
   "metadata": {},
   "source": [
    "# Data exploration"
   ]
  },
  {
   "cell_type": "markdown",
   "metadata": {},
   "source": [
    "This notebook is for initial data exploration, it is not focused on answering the case study questions"
   ]
  },
  {
   "cell_type": "code",
   "execution_count": 2,
   "metadata": {},
   "outputs": [],
   "source": [
    "import pandas as pd"
   ]
  },
  {
   "cell_type": "code",
   "execution_count": 3,
   "metadata": {},
   "outputs": [],
   "source": [
    "df_train = pd.read_csv('../data/train.csv')"
   ]
  },
  {
   "cell_type": "code",
   "execution_count": 4,
   "metadata": {},
   "outputs": [
    {
     "data": {
      "text/html": [
       "<div>\n",
       "<style scoped>\n",
       "    .dataframe tbody tr th:only-of-type {\n",
       "        vertical-align: middle;\n",
       "    }\n",
       "\n",
       "    .dataframe tbody tr th {\n",
       "        vertical-align: top;\n",
       "    }\n",
       "\n",
       "    .dataframe thead th {\n",
       "        text-align: right;\n",
       "    }\n",
       "</style>\n",
       "<table border=\"1\" class=\"dataframe\">\n",
       "  <thead>\n",
       "    <tr style=\"text-align: right;\">\n",
       "      <th></th>\n",
       "      <th>day_id</th>\n",
       "      <th>but_num_business_unit</th>\n",
       "      <th>dpt_num_department</th>\n",
       "      <th>turnover</th>\n",
       "    </tr>\n",
       "  </thead>\n",
       "  <tbody>\n",
       "    <tr>\n",
       "      <th>0</th>\n",
       "      <td>2017-09-30</td>\n",
       "      <td>64</td>\n",
       "      <td>127</td>\n",
       "      <td>580.308443</td>\n",
       "    </tr>\n",
       "    <tr>\n",
       "      <th>1</th>\n",
       "      <td>2017-09-30</td>\n",
       "      <td>119</td>\n",
       "      <td>127</td>\n",
       "      <td>1512.995918</td>\n",
       "    </tr>\n",
       "    <tr>\n",
       "      <th>2</th>\n",
       "      <td>2017-09-30</td>\n",
       "      <td>4</td>\n",
       "      <td>88</td>\n",
       "      <td>668.593556</td>\n",
       "    </tr>\n",
       "    <tr>\n",
       "      <th>3</th>\n",
       "      <td>2017-09-30</td>\n",
       "      <td>425</td>\n",
       "      <td>127</td>\n",
       "      <td>0.000000</td>\n",
       "    </tr>\n",
       "    <tr>\n",
       "      <th>4</th>\n",
       "      <td>2017-09-30</td>\n",
       "      <td>513</td>\n",
       "      <td>73</td>\n",
       "      <td>0.000000</td>\n",
       "    </tr>\n",
       "  </tbody>\n",
       "</table>\n",
       "</div>"
      ],
      "text/plain": [
       "       day_id  but_num_business_unit  dpt_num_department     turnover\n",
       "0  2017-09-30                     64                 127   580.308443\n",
       "1  2017-09-30                    119                 127  1512.995918\n",
       "2  2017-09-30                      4                  88   668.593556\n",
       "3  2017-09-30                    425                 127     0.000000\n",
       "4  2017-09-30                    513                  73     0.000000"
      ]
     },
     "execution_count": 4,
     "metadata": {},
     "output_type": "execute_result"
    }
   ],
   "source": [
    "df_train.head()"
   ]
  },
  {
   "cell_type": "code",
   "execution_count": 5,
   "metadata": {},
   "outputs": [
    {
     "data": {
      "text/plain": [
       "day_id                    object\n",
       "but_num_business_unit      int64\n",
       "dpt_num_department         int64\n",
       "turnover                 float64\n",
       "dtype: object"
      ]
     },
     "execution_count": 5,
     "metadata": {},
     "output_type": "execute_result"
    }
   ],
   "source": [
    "df_train.dtypes"
   ]
  },
  {
   "cell_type": "code",
   "execution_count": 6,
   "metadata": {},
   "outputs": [
    {
     "data": {
      "text/html": [
       "<div>\n",
       "<style scoped>\n",
       "    .dataframe tbody tr th:only-of-type {\n",
       "        vertical-align: middle;\n",
       "    }\n",
       "\n",
       "    .dataframe tbody tr th {\n",
       "        vertical-align: top;\n",
       "    }\n",
       "\n",
       "    .dataframe thead th {\n",
       "        text-align: right;\n",
       "    }\n",
       "</style>\n",
       "<table border=\"1\" class=\"dataframe\">\n",
       "  <thead>\n",
       "    <tr style=\"text-align: right;\">\n",
       "      <th></th>\n",
       "      <th>but_num_business_unit</th>\n",
       "      <th>dpt_num_department</th>\n",
       "      <th>turnover</th>\n",
       "    </tr>\n",
       "  </thead>\n",
       "  <tbody>\n",
       "    <tr>\n",
       "      <th>count</th>\n",
       "      <td>277719.000000</td>\n",
       "      <td>277719.000000</td>\n",
       "      <td>277719.000000</td>\n",
       "    </tr>\n",
       "    <tr>\n",
       "      <th>mean</th>\n",
       "      <td>294.199464</td>\n",
       "      <td>101.288832</td>\n",
       "      <td>561.818472</td>\n",
       "    </tr>\n",
       "    <tr>\n",
       "      <th>std</th>\n",
       "      <td>291.664511</td>\n",
       "      <td>21.667318</td>\n",
       "      <td>2113.229765</td>\n",
       "    </tr>\n",
       "    <tr>\n",
       "      <th>min</th>\n",
       "      <td>1.000000</td>\n",
       "      <td>73.000000</td>\n",
       "      <td>-69.791165</td>\n",
       "    </tr>\n",
       "    <tr>\n",
       "      <th>25%</th>\n",
       "      <td>81.000000</td>\n",
       "      <td>88.000000</td>\n",
       "      <td>11.785140</td>\n",
       "    </tr>\n",
       "    <tr>\n",
       "      <th>50%</th>\n",
       "      <td>204.000000</td>\n",
       "      <td>88.000000</td>\n",
       "      <td>232.724186</td>\n",
       "    </tr>\n",
       "    <tr>\n",
       "      <th>75%</th>\n",
       "      <td>427.000000</td>\n",
       "      <td>127.000000</td>\n",
       "      <td>676.655825</td>\n",
       "    </tr>\n",
       "    <tr>\n",
       "      <th>max</th>\n",
       "      <td>1887.000000</td>\n",
       "      <td>127.000000</td>\n",
       "      <td>1000000.000000</td>\n",
       "    </tr>\n",
       "  </tbody>\n",
       "</table>\n",
       "</div>"
      ],
      "text/plain": [
       "       but_num_business_unit  dpt_num_department        turnover\n",
       "count          277719.000000       277719.000000   277719.000000\n",
       "mean              294.199464          101.288832      561.818472\n",
       "std               291.664511           21.667318     2113.229765\n",
       "min                 1.000000           73.000000      -69.791165\n",
       "25%                81.000000           88.000000       11.785140\n",
       "50%               204.000000           88.000000      232.724186\n",
       "75%               427.000000          127.000000      676.655825\n",
       "max              1887.000000          127.000000  1000000.000000"
      ]
     },
     "execution_count": 6,
     "metadata": {},
     "output_type": "execute_result"
    }
   ],
   "source": [
    "df_train.describe()"
   ]
  },
  {
   "cell_type": "code",
   "execution_count": 7,
   "metadata": {},
   "outputs": [
    {
     "data": {
      "text/plain": [
       "day_id                   0\n",
       "but_num_business_unit    0\n",
       "dpt_num_department       0\n",
       "turnover                 0\n",
       "dtype: int64"
      ]
     },
     "execution_count": 7,
     "metadata": {},
     "output_type": "execute_result"
    }
   ],
   "source": [
    "df_train.isnull().sum()"
   ]
  },
  {
   "cell_type": "code",
   "execution_count": 8,
   "metadata": {},
   "outputs": [],
   "source": [
    "df_test = pd.read_csv('../data/test.csv')"
   ]
  },
  {
   "cell_type": "code",
   "execution_count": 9,
   "metadata": {},
   "outputs": [
    {
     "data": {
      "text/html": [
       "<div>\n",
       "<style scoped>\n",
       "    .dataframe tbody tr th:only-of-type {\n",
       "        vertical-align: middle;\n",
       "    }\n",
       "\n",
       "    .dataframe tbody tr th {\n",
       "        vertical-align: top;\n",
       "    }\n",
       "\n",
       "    .dataframe thead th {\n",
       "        text-align: right;\n",
       "    }\n",
       "</style>\n",
       "<table border=\"1\" class=\"dataframe\">\n",
       "  <thead>\n",
       "    <tr style=\"text-align: right;\">\n",
       "      <th></th>\n",
       "      <th>day_id</th>\n",
       "      <th>but_num_business_unit</th>\n",
       "      <th>dpt_num_department</th>\n",
       "    </tr>\n",
       "  </thead>\n",
       "  <tbody>\n",
       "    <tr>\n",
       "      <th>0</th>\n",
       "      <td>2017-11-25</td>\n",
       "      <td>95</td>\n",
       "      <td>73</td>\n",
       "    </tr>\n",
       "    <tr>\n",
       "      <th>1</th>\n",
       "      <td>2017-11-25</td>\n",
       "      <td>4</td>\n",
       "      <td>117</td>\n",
       "    </tr>\n",
       "    <tr>\n",
       "      <th>2</th>\n",
       "      <td>2017-11-25</td>\n",
       "      <td>113</td>\n",
       "      <td>127</td>\n",
       "    </tr>\n",
       "    <tr>\n",
       "      <th>3</th>\n",
       "      <td>2017-11-25</td>\n",
       "      <td>93</td>\n",
       "      <td>117</td>\n",
       "    </tr>\n",
       "    <tr>\n",
       "      <th>4</th>\n",
       "      <td>2017-11-25</td>\n",
       "      <td>66</td>\n",
       "      <td>127</td>\n",
       "    </tr>\n",
       "  </tbody>\n",
       "</table>\n",
       "</div>"
      ],
      "text/plain": [
       "       day_id  but_num_business_unit  dpt_num_department\n",
       "0  2017-11-25                     95                  73\n",
       "1  2017-11-25                      4                 117\n",
       "2  2017-11-25                    113                 127\n",
       "3  2017-11-25                     93                 117\n",
       "4  2017-11-25                     66                 127"
      ]
     },
     "execution_count": 9,
     "metadata": {},
     "output_type": "execute_result"
    }
   ],
   "source": [
    "df_test.head()"
   ]
  },
  {
   "cell_type": "code",
   "execution_count": 10,
   "metadata": {},
   "outputs": [
    {
     "data": {
      "text/plain": [
       "day_id                   object\n",
       "but_num_business_unit     int64\n",
       "dpt_num_department        int64\n",
       "dtype: object"
      ]
     },
     "execution_count": 10,
     "metadata": {},
     "output_type": "execute_result"
    }
   ],
   "source": [
    "df_test.dtypes"
   ]
  },
  {
   "cell_type": "code",
   "execution_count": 11,
   "metadata": {},
   "outputs": [
    {
     "data": {
      "text/html": [
       "<div>\n",
       "<style scoped>\n",
       "    .dataframe tbody tr th:only-of-type {\n",
       "        vertical-align: middle;\n",
       "    }\n",
       "\n",
       "    .dataframe tbody tr th {\n",
       "        vertical-align: top;\n",
       "    }\n",
       "\n",
       "    .dataframe thead th {\n",
       "        text-align: right;\n",
       "    }\n",
       "</style>\n",
       "<table border=\"1\" class=\"dataframe\">\n",
       "  <thead>\n",
       "    <tr style=\"text-align: right;\">\n",
       "      <th></th>\n",
       "      <th>but_num_business_unit</th>\n",
       "      <th>dpt_num_department</th>\n",
       "    </tr>\n",
       "  </thead>\n",
       "  <tbody>\n",
       "    <tr>\n",
       "      <th>count</th>\n",
       "      <td>10136.000000</td>\n",
       "      <td>10136.000000</td>\n",
       "    </tr>\n",
       "    <tr>\n",
       "      <th>mean</th>\n",
       "      <td>414.886346</td>\n",
       "      <td>101.207577</td>\n",
       "    </tr>\n",
       "    <tr>\n",
       "      <th>std</th>\n",
       "      <td>445.932616</td>\n",
       "      <td>21.679104</td>\n",
       "    </tr>\n",
       "    <tr>\n",
       "      <th>min</th>\n",
       "      <td>1.000000</td>\n",
       "      <td>73.000000</td>\n",
       "    </tr>\n",
       "    <tr>\n",
       "      <th>25%</th>\n",
       "      <td>95.000000</td>\n",
       "      <td>88.000000</td>\n",
       "    </tr>\n",
       "    <tr>\n",
       "      <th>50%</th>\n",
       "      <td>237.000000</td>\n",
       "      <td>88.000000</td>\n",
       "    </tr>\n",
       "    <tr>\n",
       "      <th>75%</th>\n",
       "      <td>549.000000</td>\n",
       "      <td>117.000000</td>\n",
       "    </tr>\n",
       "    <tr>\n",
       "      <th>max</th>\n",
       "      <td>1887.000000</td>\n",
       "      <td>127.000000</td>\n",
       "    </tr>\n",
       "  </tbody>\n",
       "</table>\n",
       "</div>"
      ],
      "text/plain": [
       "       but_num_business_unit  dpt_num_department\n",
       "count           10136.000000        10136.000000\n",
       "mean              414.886346          101.207577\n",
       "std               445.932616           21.679104\n",
       "min                 1.000000           73.000000\n",
       "25%                95.000000           88.000000\n",
       "50%               237.000000           88.000000\n",
       "75%               549.000000          117.000000\n",
       "max              1887.000000          127.000000"
      ]
     },
     "execution_count": 11,
     "metadata": {},
     "output_type": "execute_result"
    }
   ],
   "source": [
    "df_test.describe()"
   ]
  },
  {
   "cell_type": "code",
   "execution_count": 12,
   "metadata": {},
   "outputs": [
    {
     "data": {
      "text/plain": [
       "day_id                   0\n",
       "but_num_business_unit    0\n",
       "dpt_num_department       0\n",
       "dtype: int64"
      ]
     },
     "execution_count": 12,
     "metadata": {},
     "output_type": "execute_result"
    }
   ],
   "source": [
    "df_test.isnull().sum()"
   ]
  },
  {
   "cell_type": "code",
   "execution_count": 13,
   "metadata": {},
   "outputs": [],
   "source": [
    "df_bu_feat = pd.read_csv('../data/bu_feat.csv')"
   ]
  },
  {
   "cell_type": "code",
   "execution_count": 14,
   "metadata": {},
   "outputs": [
    {
     "data": {
      "text/html": [
       "<div>\n",
       "<style scoped>\n",
       "    .dataframe tbody tr th:only-of-type {\n",
       "        vertical-align: middle;\n",
       "    }\n",
       "\n",
       "    .dataframe tbody tr th {\n",
       "        vertical-align: top;\n",
       "    }\n",
       "\n",
       "    .dataframe thead th {\n",
       "        text-align: right;\n",
       "    }\n",
       "</style>\n",
       "<table border=\"1\" class=\"dataframe\">\n",
       "  <thead>\n",
       "    <tr style=\"text-align: right;\">\n",
       "      <th></th>\n",
       "      <th>but_num_business_unit</th>\n",
       "      <th>but_postcode</th>\n",
       "      <th>but_latitude</th>\n",
       "      <th>but_longitude</th>\n",
       "      <th>but_region_idr_region</th>\n",
       "      <th>zod_idr_zone_dgr</th>\n",
       "    </tr>\n",
       "  </thead>\n",
       "  <tbody>\n",
       "    <tr>\n",
       "      <th>0</th>\n",
       "      <td>1609</td>\n",
       "      <td>80100</td>\n",
       "      <td>50.096306</td>\n",
       "      <td>1.867220</td>\n",
       "      <td>69</td>\n",
       "      <td>4</td>\n",
       "    </tr>\n",
       "    <tr>\n",
       "      <th>1</th>\n",
       "      <td>1995</td>\n",
       "      <td>95700</td>\n",
       "      <td>48.991087</td>\n",
       "      <td>2.520903</td>\n",
       "      <td>3</td>\n",
       "      <td>6</td>\n",
       "    </tr>\n",
       "    <tr>\n",
       "      <th>2</th>\n",
       "      <td>1800</td>\n",
       "      <td>73210</td>\n",
       "      <td>45.552933</td>\n",
       "      <td>6.644736</td>\n",
       "      <td>51</td>\n",
       "      <td>4</td>\n",
       "    </tr>\n",
       "    <tr>\n",
       "      <th>3</th>\n",
       "      <td>238</td>\n",
       "      <td>47550</td>\n",
       "      <td>44.175370</td>\n",
       "      <td>0.638869</td>\n",
       "      <td>134</td>\n",
       "      <td>10</td>\n",
       "    </tr>\n",
       "    <tr>\n",
       "      <th>4</th>\n",
       "      <td>201</td>\n",
       "      <td>13546</td>\n",
       "      <td>43.508418</td>\n",
       "      <td>5.406423</td>\n",
       "      <td>71</td>\n",
       "      <td>10</td>\n",
       "    </tr>\n",
       "  </tbody>\n",
       "</table>\n",
       "</div>"
      ],
      "text/plain": [
       "   but_num_business_unit  but_postcode  but_latitude  but_longitude  \\\n",
       "0                   1609         80100     50.096306       1.867220   \n",
       "1                   1995         95700     48.991087       2.520903   \n",
       "2                   1800         73210     45.552933       6.644736   \n",
       "3                    238         47550     44.175370       0.638869   \n",
       "4                    201         13546     43.508418       5.406423   \n",
       "\n",
       "   but_region_idr_region  zod_idr_zone_dgr  \n",
       "0                     69                 4  \n",
       "1                      3                 6  \n",
       "2                     51                 4  \n",
       "3                    134                10  \n",
       "4                     71                10  "
      ]
     },
     "execution_count": 14,
     "metadata": {},
     "output_type": "execute_result"
    }
   ],
   "source": [
    "df_bu_feat.head()"
   ]
  },
  {
   "cell_type": "code",
   "execution_count": 15,
   "metadata": {},
   "outputs": [
    {
     "data": {
      "text/plain": [
       "but_num_business_unit      int64\n",
       "but_postcode               int64\n",
       "but_latitude             float64\n",
       "but_longitude            float64\n",
       "but_region_idr_region      int64\n",
       "zod_idr_zone_dgr           int64\n",
       "dtype: object"
      ]
     },
     "execution_count": 15,
     "metadata": {},
     "output_type": "execute_result"
    }
   ],
   "source": [
    "df_bu_feat.dtypes"
   ]
  },
  {
   "cell_type": "code",
   "execution_count": 16,
   "metadata": {},
   "outputs": [
    {
     "data": {
      "text/html": [
       "<div>\n",
       "<style scoped>\n",
       "    .dataframe tbody tr th:only-of-type {\n",
       "        vertical-align: middle;\n",
       "    }\n",
       "\n",
       "    .dataframe tbody tr th {\n",
       "        vertical-align: top;\n",
       "    }\n",
       "\n",
       "    .dataframe thead th {\n",
       "        text-align: right;\n",
       "    }\n",
       "</style>\n",
       "<table border=\"1\" class=\"dataframe\">\n",
       "  <thead>\n",
       "    <tr style=\"text-align: right;\">\n",
       "      <th></th>\n",
       "      <th>but_num_business_unit</th>\n",
       "      <th>but_postcode</th>\n",
       "      <th>but_latitude</th>\n",
       "      <th>but_longitude</th>\n",
       "      <th>but_region_idr_region</th>\n",
       "      <th>zod_idr_zone_dgr</th>\n",
       "    </tr>\n",
       "  </thead>\n",
       "  <tbody>\n",
       "    <tr>\n",
       "      <th>count</th>\n",
       "      <td>326.000000</td>\n",
       "      <td>326.000000</td>\n",
       "      <td>326.000000</td>\n",
       "      <td>326.000000</td>\n",
       "      <td>326.000000</td>\n",
       "      <td>326.000000</td>\n",
       "    </tr>\n",
       "    <tr>\n",
       "      <th>mean</th>\n",
       "      <td>435.162577</td>\n",
       "      <td>51203.460123</td>\n",
       "      <td>47.002270</td>\n",
       "      <td>2.637551</td>\n",
       "      <td>63.199387</td>\n",
       "      <td>12.202454</td>\n",
       "    </tr>\n",
       "    <tr>\n",
       "      <th>std</th>\n",
       "      <td>474.138722</td>\n",
       "      <td>26716.870578</td>\n",
       "      <td>2.333283</td>\n",
       "      <td>2.786303</td>\n",
       "      <td>47.901374</td>\n",
       "      <td>18.605263</td>\n",
       "    </tr>\n",
       "    <tr>\n",
       "      <th>min</th>\n",
       "      <td>1.000000</td>\n",
       "      <td>1100.000000</td>\n",
       "      <td>41.954300</td>\n",
       "      <td>-4.436446</td>\n",
       "      <td>2.000000</td>\n",
       "      <td>1.000000</td>\n",
       "    </tr>\n",
       "    <tr>\n",
       "      <th>25%</th>\n",
       "      <td>97.250000</td>\n",
       "      <td>31000.000000</td>\n",
       "      <td>44.959619</td>\n",
       "      <td>0.707571</td>\n",
       "      <td>31.000000</td>\n",
       "      <td>4.000000</td>\n",
       "    </tr>\n",
       "    <tr>\n",
       "      <th>50%</th>\n",
       "      <td>242.500000</td>\n",
       "      <td>56050.000000</td>\n",
       "      <td>47.373887</td>\n",
       "      <td>2.598707</td>\n",
       "      <td>64.000000</td>\n",
       "      <td>6.000000</td>\n",
       "    </tr>\n",
       "    <tr>\n",
       "      <th>75%</th>\n",
       "      <td>553.750000</td>\n",
       "      <td>74575.000000</td>\n",
       "      <td>48.885216</td>\n",
       "      <td>4.904543</td>\n",
       "      <td>74.000000</td>\n",
       "      <td>10.000000</td>\n",
       "    </tr>\n",
       "    <tr>\n",
       "      <th>max</th>\n",
       "      <td>1995.000000</td>\n",
       "      <td>98000.000000</td>\n",
       "      <td>51.050275</td>\n",
       "      <td>8.796100</td>\n",
       "      <td>178.000000</td>\n",
       "      <td>72.000000</td>\n",
       "    </tr>\n",
       "  </tbody>\n",
       "</table>\n",
       "</div>"
      ],
      "text/plain": [
       "       but_num_business_unit  but_postcode  but_latitude  but_longitude  \\\n",
       "count             326.000000    326.000000    326.000000     326.000000   \n",
       "mean              435.162577  51203.460123     47.002270       2.637551   \n",
       "std               474.138722  26716.870578      2.333283       2.786303   \n",
       "min                 1.000000   1100.000000     41.954300      -4.436446   \n",
       "25%                97.250000  31000.000000     44.959619       0.707571   \n",
       "50%               242.500000  56050.000000     47.373887       2.598707   \n",
       "75%               553.750000  74575.000000     48.885216       4.904543   \n",
       "max              1995.000000  98000.000000     51.050275       8.796100   \n",
       "\n",
       "       but_region_idr_region  zod_idr_zone_dgr  \n",
       "count             326.000000        326.000000  \n",
       "mean               63.199387         12.202454  \n",
       "std                47.901374         18.605263  \n",
       "min                 2.000000          1.000000  \n",
       "25%                31.000000          4.000000  \n",
       "50%                64.000000          6.000000  \n",
       "75%                74.000000         10.000000  \n",
       "max               178.000000         72.000000  "
      ]
     },
     "execution_count": 16,
     "metadata": {},
     "output_type": "execute_result"
    }
   ],
   "source": [
    "df_bu_feat.describe()"
   ]
  },
  {
   "cell_type": "markdown",
   "metadata": {},
   "source": [
    "## Visualizing with plots"
   ]
  },
  {
   "cell_type": "code",
   "execution_count": 17,
   "metadata": {},
   "outputs": [],
   "source": [
    "df_train['day_id'] = pd.to_datetime(df_train['day_id'], format='%Y-%m-%d')"
   ]
  },
  {
   "cell_type": "code",
   "execution_count": 18,
   "metadata": {},
   "outputs": [
    {
     "data": {
      "text/plain": [
       "dpt_num_department\n",
       "73     Axes(0.125,0.2;0.775x0.68)\n",
       "88     Axes(0.125,0.2;0.775x0.68)\n",
       "117    Axes(0.125,0.2;0.775x0.68)\n",
       "127    Axes(0.125,0.2;0.775x0.68)\n",
       "dtype: object"
      ]
     },
     "execution_count": 18,
     "metadata": {},
     "output_type": "execute_result"
    },
    {
     "data": {
      "image/png": "[encoded data removed]",
      "text/plain": [
       "<Figure size 640x480 with 1 Axes>"
      ]
     },
     "metadata": {},
     "output_type": "display_data"
    },
    {
     "data": {
      "image/png": "[encoded data removed]",
      "text/plain": [
       "<Figure size 640x480 with 1 Axes>"
      ]
     },
     "metadata": {},
     "output_type": "display_data"
    },
    {
     "data": {
      "image/png": "[encoded data removed]",
      "text/plain": [
       "<Figure size 640x480 with 1 Axes>"
      ]
     },
     "metadata": {},
     "output_type": "display_data"
    },
    {
     "data": {
      "image/png": "[encoded data removed]",
      "text/plain": [
       "<Figure size 640x480 with 1 Axes>"
      ]
     },
     "metadata": {},
     "output_type": "display_data"
    }
   ],
   "source": [
    "df_train.groupby('dpt_num_department').plot(x='day_id', y='turnover')"
   ]
  },
  {
   "cell_type": "markdown",
   "metadata": {},
   "source": [
    "Dep 73 : pattern annuel avec une très bonne année 2016  \n",
    "Dep 88 : gros outlier fin 2013 qui écrase le graphe, à nettoyer  \n",
    "Dep 117 : très forte saisonnalité (fort autour du mois de décembre faible en été => affaire d'hiver /ski)  \n",
    "Dep 127 : similaire au 73 dans l'idée"
   ]
  },
  {
   "cell_type": "code",
   "execution_count": 19,
   "metadata": {},
   "outputs": [],
   "source": [
    "#df_train.groupby('but_num_business_unit').plot(x='day_id', y='turnover')\n",
    "# 322 unique BUSINESS UNITS -> too many to plot"
   ]
  },
  {
   "cell_type": "code",
   "execution_count": 20,
   "metadata": {},
   "outputs": [
    {
     "data": {
      "text/plain": [
       "dpt_num_department\n",
       "88     70230\n",
       "127    69442\n",
       "117    69387\n",
       "73     68660\n",
       "Name: count, dtype: int64"
      ]
     },
     "execution_count": 20,
     "metadata": {},
     "output_type": "execute_result"
    }
   ],
   "source": [
    "df_train.value_counts('dpt_num_department')"
   ]
  },
  {
   "cell_type": "code",
   "execution_count": 21,
   "metadata": {},
   "outputs": [
    {
     "data": {
      "text/plain": [
       "but_num_business_unit\n",
       "1       996\n",
       "188     996\n",
       "242     996\n",
       "243     996\n",
       "249     996\n",
       "       ... \n",
       "1881     74\n",
       "1869     68\n",
       "1876     56\n",
       "1887     53\n",
       "1882     49\n",
       "Name: count, Length: 322, dtype: int64"
      ]
     },
     "execution_count": 21,
     "metadata": {},
     "output_type": "execute_result"
    }
   ],
   "source": [
    "df_train.value_counts('but_num_business_unit')"
   ]
  },
  {
   "cell_type": "code",
   "execution_count": null,
   "metadata": {},
   "outputs": [],
   "source": []
  },
  {
   "cell_type": "markdown",
   "metadata": {},
   "source": [
    "## Map of Bu Feat"
   ]
  },
  {
   "cell_type": "code",
   "execution_count": 22,
   "metadata": {},
   "outputs": [],
   "source": [
    "import plotly.express as px"
   ]
  },
  {
   "cell_type": "code",
   "execution_count": 32,
   "metadata": {},
   "outputs": [
    {
     "data": {
      "text/plain": [
       "but_region_idr_region\n",
       "178    27\n",
       "70     16\n",
       "75     14\n",
       "65     14\n",
       "69     13\n",
       "30     13\n",
       "52     12\n",
       "72     12\n",
       "66     12\n",
       "3      12\n",
       "55     12\n",
       "2      12\n",
       "51     12\n",
       "7      12\n",
       "31     11\n",
       "74     11\n",
       "71     11\n",
       "53     10\n",
       "134    10\n",
       "4      10\n",
       "6      10\n",
       "8      10\n",
       "64     10\n",
       "32      9\n",
       "107     9\n",
       "115     9\n",
       "33      9\n",
       "121     3\n",
       "162     1\n",
       "Name: count, dtype: int64"
      ]
     },
     "execution_count": 32,
     "metadata": {},
     "output_type": "execute_result"
    }
   ],
   "source": [
    "df_bu_feat.value_counts('but_region_idr_region')"
   ]
  },
  {
   "cell_type": "code",
   "execution_count": 35,
   "metadata": {},
   "outputs": [
    {
     "data": {
      "text/plain": [
       "zod_idr_zone_dgr\n",
       "6     96\n",
       "4     92\n",
       "10    89\n",
       "72    27\n",
       "1      9\n",
       "3      9\n",
       "35     3\n",
       "59     1\n",
       "Name: count, dtype: int64"
      ]
     },
     "execution_count": 35,
     "metadata": {},
     "output_type": "execute_result"
    }
   ],
   "source": [
    "df_bu_feat.value_counts('zod_idr_zone_dgr')"
   ]
  },
  {
   "cell_type": "code",
   "execution_count": 44,
   "metadata": {},
   "outputs": [
    {
     "data": {
      "application/vnd.plotly.v1+json": {
       "config": {
        "plotlyServerURL": "https://plot.ly"
       },
       "data": [
        {
         "hovertemplate": "but_latitude=%{lat}<br>but_longitude=%{lon}<br>but_region_idr_region=%{marker.color}<extra></extra>",
         "lat": [
          50.096305505057,
          48.991087,
          45.552933,
          44.175369902353,
          43.508417636898,
          48.404323505083,
          45.718899205212,
          49.869382,
          47.467694948156,
          46.195037,
          43.600994009783,
          45.65602502061,
          44.113456333534,
          48.832790978809,
          48.73031481430501,
          43.665026576026,
          43.48405,
          50.302949011174,
          45.625172417198,
          44.7173656,
          47.223866241457,
          43.297672913464005,
          44.612897806151,
          50.335196883427,
          48.6232936,
          43.919561658069,
          48.656799428712,
          49.527580379171,
          49.434931708979995,
          48.757582,
          47.64399881847,
          47.619434230951,
          47.215892439677,
          44.298789042327,
          43.23974425098601,
          44.829945664983995,
          44.814453434753,
          46.223818146279,
          45.824702134773,
          47.099779,
          45.591609846287,
          48.425053824534,
          45.143233782623994,
          43.347835050534,
          45.72223,
          45.725769280296,
          43.643483661595,
          49.19668851,
          50.939426505727994,
          48.275914635935,
          43.588755664559,
          50.127918,
          46.83732737924501,
          46.771367282699,
          47.329480036209,
          45.69233988439299,
          48.6229423,
          48.44777564001701,
          50.150644384719,
          50.644545045294,
          45.572238310287,
          43.551454129042995,
          49.033033,
          46.775496450166,
          46.821668,
          49.596890919888,
          47.074863775227,
          48.058910400394,
          43.827647429669,
          48.94676722561,
          48.93996080891901,
          45.7652142,
          45.6081,
          48.892725,
          48.911597,
          48.757978188321,
          48.10228711846501,
          43.608075023304,
          49.405483411557,
          48.089979492797006,
          47.901903010946995,
          49.753996161172,
          49.216914631029,
          48.829568662848,
          45.01,
          43.729819997578,
          44.836969,
          47.973216,
          49.078650746812,
          50.257274127328,
          43.57132392556099,
          49.90330896416,
          44.06937079732899,
          48.475374079441,
          49.063198,
          47.111461315625,
          50.347276471818,
          51.014958,
          50.6366,
          45.146181564846,
          41.9543,
          49.024556832545,
          49.000735419996005,
          43.007467741008995,
          49.197189783381006,
          50.514452470026,
          43.438002257897,
          48.74457,
          44.567418776089,
          50.6854,
          48.932422442487,
          48.749340890418,
          48.983256802878,
          48.525451,
          48.58865742580901,
          48.8482,
          43.526724163073,
          47.796132427835,
          50.7099,
          49.126234430276,
          46.696543209335005,
          45.939979023462,
          46.178106099992,
          43.74292524502699,
          48.187602635662,
          43.291036,
          47.396966,
          48.761762,
          49.5880439,
          44.617021320185,
          48.08973642879699,
          48.040158531269995,
          43.972636275833,
          45.024043330745,
          45.7817265312,
          50.682855869814,
          44.874862,
          45.7800031,
          50.463439283254,
          43.655179960431994,
          45.822362624404,
          50.73450344892901,
          47.764563,
          44.49189679443,
          45.184061674149,
          43.306066807376006,
          48.95657079560099,
          49.154935865529005,
          43.86728552285699,
          43.984650148794,
          44.52664049112099,
          48.929838422840994,
          49.000117349575994,
          49.530163,
          50.617364135841,
          48.642537804281,
          49.488812562967,
          48.888112987144005,
          47.251536737440006,
          43.17818036151301,
          49.288589235348994,
          46.996066031236,
          46.87832903591,
          48.904159089294005,
          49.144141394544,
          49.570645,
          48.988825113005,
          43.605718440100006,
          45.9158718,
          47.88129,
          43.124603387346,
          50.729510087392995,
          43.430995468368,
          49.054629146506,
          49.190619467143,
          46.269842274881,
          48.869257098696,
          43.319436994782,
          44.142998,
          45.186564089938,
          43.576978999999994,
          42.672451,
          43.729771123628,
          47.502031317938005,
          46.349782169109,
          48.852016417023,
          50.380009709484995,
          46.590449939636,
          45.9165,
          48.189122,
          48.617377000000005,
          49.347830105407,
          51.050275,
          43.533238900898,
          48.554205919301005,
          46.316717022458,
          48.8214639,
          47.3152219,
          46.513652065136995,
          47.645952710388,
          44.112937857773,
          48.163210843749,
          48.132292490907,
          48.830211122105,
          46.063457270981,
          45.94723458352899,
          47.372281,
          48.826600297892,
          48.898305747803,
          45.762658725176,
          45.574107710989,
          48.49150990397101,
          48.292940165907,
          48.622824,
          42.672101,
          48.61193,
          43.564914118296,
          44.942825,
          48.719182553531,
          47.263703506408994,
          48.590189870312,
          48.82798,
          48.17170813166299,
          43.419422613170006,
          49.361692089765995,
          44.717366,
          48.925526886994,
          45.468709691841,
          48.775416577838,
          47.127202221268995,
          48.757856573639,
          45.92,
          49.343177,
          46.388774097006,
          46.9975561,
          45.747941,
          45.624019,
          43.687736,
          47.428158212354,
          47.956716810692996,
          43.504670219781,
          49.286483902686,
          48.332739481927995,
          45.273139,
          46.228227631234,
          44.940409,
          47.668234849339,
          43.13916219217,
          48.36295232443,
          48.783205653834,
          49.238738430108995,
          48.65681702927999,
          49.856549238289006,
          49.142708144848,
          45.749749154152,
          49.113314512526,
          46.128613177356,
          48.586372915463,
          48.702524,
          45.98233858286101,
          45.876008,
          50.616165607988,
          48.500564745962,
          43.436265579592,
          46.559578059992,
          47.375493355379,
          47.289599660602,
          49.101690000000005,
          43.9159597,
          43.236455318259,
          43.610906,
          43.5854217,
          49.327556142728994,
          43.367983601749,
          50.61792149999999,
          43.663195661843005,
          47.815603734891994,
          50.724428066903,
          44.829045587963,
          47.17905617660401,
          44.78797231748901,
          44.882639000000005,
          48.829385400103,
          43.204581916482,
          43.428178,
          42.773182201954,
          43.4315,
          46.924682112256,
          45.790229093077,
          43.518099736415,
          48.726110665085,
          48.80225,
          50.6346,
          46.205699,
          50.6879,
          47.739646417871,
          50.62806,
          47.433275516219,
          50.40746152974,
          50.741153092877,
          43.726755172152,
          49.54468839538,
          46.278271587841,
          45.197546945397995,
          48.05420801536199,
          48.577772205195,
          47.97706090699099,
          45.240255,
          46.069548069323,
          43.111,
          48.774977467972,
          48.625744451825,
          44.395776,
          45.32770931381699,
          48.876526449495,
          46.786704,
          49.112331,
          48.82640139999999,
          45.65446449999999,
          44.902999750666,
          45.892380783678,
          43.80873122718,
          43.423640500000005,
          43.7648401,
          49.16042827905002,
          47.272346
         ],
         "legendgroup": "",
         "lon": [
          1.867220361763,
          2.5209029,
          6.644736,
          0.63886920768738,
          5.406422974205,
          0.0876797645568849,
          5.9232903868638,
          2.280452,
          -0.61909174736023,
          6.254448,
          7.0781601402283005,
          6.369133322753901,
          4.1024539067459,
          2.2770991263198996,
          -0.039209608737183,
          4.6350185717581995,
          -1.50716,
          2.7309021276473997,
          0.11193870967865,
          -0.7334292000000459,
          -1.6270074060821995,
          5.5935598723526,
          4.4104248829117,
          3.5110421276474,
          2.3059491000000207,
          4.8675829470825,
          -1.3553436441803,
          0.96427905753328,
          2.1137096243286,
          5.192519,
          6.9158133172607,
          1.3019644180298,
          5.9507893029022005,
          4.7521673789596,
          5.396694142188999,
          -0.6806301719665501,
          -0.52546144844055,
          5.205549823417599,
          4.9990472294998,
          2.3729560000000003,
          5.247880841941799,
          -4.4364458576632,
          1.4752233250618,
          3.2550239679146005,
          4.921525,
          4.9281999774934,
          1.3697865847671002,
          -0.452939660049,
          1.8400844767212,
          -3.5366588279724,
          2.2722581891632,
          3.427389,
          -1.8736532383758,
          4.8677222724915,
          0.70847996826172,
          0.18581626060486,
          2.3011574,
          1.4504549841309,
          3.2203362447052,
          3.1424384738189,
          4.812848774343901,
          6.948165681228599,
          3.3775980000000003,
          1.6452853055572,
          0.54451,
          -1.6034307830811,
          -0.83482796409607,
          1.3357635476379,
          5.0358234404755,
          2.670301222229,
          4.4023257354736,
          3.1280585,
          5.8893,
          2.23983,
          2.0356826,
          1.9352526962952,
          7.3640339979003,
          1.3046952749252,
          2.7792070257950003,
          -1.6267139338683998,
          -3.9074371268447994,
          4.7050058306885,
          4.0481480079651,
          2.6365864464187996,
          -0.4376,
          -1.0391634404754,
          -0.5736874,
          2.732727,
          6.1110975780487005,
          3.9303382526398,
          3.845318687171899,
          1.0789575238037,
          6.1787156357209,
          -2.0411662468796,
          -1.433665,
          5.5093952316437,
          3.0925364054488997,
          2.319579,
          3.0694,
          5.691407646141,
          8.7961,
          3.9493095112228,
          1.1571701177215,
          1.6153431507874,
          6.933714952392499,
          2.6221938478851,
          6.7198322043991,
          6.14814,
          6.0954560886383,
          3.0895,
          2.3170861203765,
          1.3497877817535,
          2.3607023267365,
          7.688574000000001,
          7.690229067459099,
          2.2973,
          4.9589848121644,
          7.3075977275086,
          3.1737,
          2.2475902989197003,
          -1.4304398845863,
          6.0689691580581,
          -1.1210686144638,
          7.320597958335901,
          6.4736327930069,
          5.482544,
          0.7870739999999999,
          -3.44901,
          3.649588,
          -1.1282155231095,
          -0.76370256679535,
          0.1740542824172999,
          4.863424191015599,
          3.883376002655,
          1.3067464510299998,
          3.2175633412171,
          -0.567562,
          3.1953741,
          2.8291793254088997,
          6.936812684516901,
          4.7677408148194,
          2.272368832016,
          -3.400891000000001,
          0.17611044837952,
          5.723703619959999,
          5.3651014748688,
          2.8636577957703,
          -0.28744121733551,
          -0.47894748399201,
          1.3334748981476,
          4.7443532234955,
          2.1433739656067,
          2.186929271164,
          0.187278,
          3.0844783888854996,
          6.1834727976226995,
          0.13296680118866,
          2.2013429927292,
          -1.5128343730164,
          3.0323160886382996,
          4.027212181892399,
          3.108983383606,
          -1.0161196785736,
          2.4675643458937997,
          0.27928690345764,
          2.9772369999999997,
          1.6737681983947,
          3.9231993883606,
          -1.3284354,
          1.90382,
          5.8807150701141,
          1.6444960661316002,
          5.0479290641098,
          2.0493101045425,
          6.1438808736107005,
          5.652746292976401,
          2.3253604957009,
          -0.43501084655762,
          5.965383,
          0.76398682209015,
          3.934741,
          2.885772,
          7.4163006785736,
          6.811860583992,
          2.6060998822783996,
          2.4160881666564,
          3.4755738796234,
          3.3257589194488997,
          6.690885000000001,
          2.2469189999999997,
          -2.0638330000000003,
          0.5439113082122801,
          2.393182,
          1.4066804074097,
          3.2988760527786,
          -0.41801729430389,
          2.3127278,
          5.0890362,
          -1.7880704012603998,
          -2.0739832619324,
          4.8474707692337,
          -1.6379606113617,
          -1.6888751894103995,
          2.3765668809509,
          4.0586691322632005,
          -0.9904082209015,
          1.714046,
          2.1155911997223003,
          2.3723314507874,
          4.8556141918183,
          5.9491106428528,
          -2.7577974060821004,
          6.9359337936401,
          4.964678,
          2.888655,
          -1.980412,
          1.5222499571472,
          4.857169,
          7.0427053445664,
          -0.09288142593384,
          2.5982079219817997,
          1.96602,
          3.2879544196045,
          5.3624489814758,
          3.3192306296387004,
          -0.733429,
          2.3627921865082,
          4.3436404920044,
          2.5992056315994,
          -2.1167403214264,
          2.3853814034271004,
          6.8675,
          6.17428,
          6.5220782567612,
          -0.2094509999999445,
          5.183154,
          -1.027405,
          1.404662,
          0.7072684669342,
          0.22934399272918,
          6.4832788637542995,
          1.7992498576278002,
          4.1041135528869,
          1.774678,
          5.993731929608201,
          4.916817,
          -2.7885842605742996,
          6.0333236032715,
          2.9544894698029,
          2.2192904453690003,
          2.4685134404755,
          7.724459882278401,
          3.2513132121643,
          5.4114065277863,
          -0.67598135714721,
          7.0942849298859,
          3.3995218968201,
          2.4496933544922004,
          2.25654,
          4.7439057632294,
          6.08798,
          3.1275917202377004,
          2.5837826799011,
          5.2563218154525995,
          0.29985826187134,
          -1.1976634530563,
          -2.259009464032,
          1.454199,
          2.1107253,
          0.047104392868042,
          1.4431,
          1.4052801999999929,
          1.0948720145416,
          -1.7813141521149,
          3.084186499999987,
          0.5938433769989,
          3.5665007473602004,
          2.7487244001388995,
          0.47010579364014,
          -1.5022398822783998,
          -0.53433210052491,
          6.623321000000001,
          2.530164022507,
          2.3138548710251,
          5.396907999999938,
          2.9174051289748997,
          5.39811,
          6.339776261238099,
          4.7779885423279005,
          1.5337953055573,
          -0.58446177909851,
          7.833039,
          3.0648,
          -1.367323,
          3.1035,
          7.289174319504499,
          2.9573769999999517,
          -0.49910238604736,
          2.9728383703612997,
          3.1346132050324,
          7.186842625656201,
          5.8060787142944,
          4.8032217473602,
          5.7503715390396,
          -2.9463558282807005,
          -3.856431951065,
          -4.0782386724915,
          5.668488,
          6.5494477718277,
          5.8123,
          2.4380066772461,
          2.3438520416642,
          2.605752,
          4.8049222050324,
          2.297394780426,
          -2.0725290000000003,
          -1.048979,
          2.7271471000000247,
          5.113278799999988,
          2.4515360342545,
          1.2778869444275,
          4.3678857735718,
          6.753684700000001,
          1.3754257000000507,
          -0.2863848209381103,
          -1.4724224000000277
         ],
         "marker": {
          "color": [
           69,
           3,
           51,
           134,
           71,
           72,
           51,
           69,
           72,
           51,
           55,
           51,
           6,
           75,
           72,
           71,
           31,
           69,
           70,
           33,
           107,
           71,
           178,
           65,
           33,
           115,
           30,
           30,
           69,
           178,
           53,
           66,
           74,
           115,
           71,
           31,
           31,
           51,
           8,
           66,
           52,
           7,
           134,
           6,
           178,
           8,
           64,
           30,
           69,
           7,
           134,
           178,
           70,
           8,
           72,
           70,
           2,
           66,
           65,
           65,
           52,
           55,
           178,
           66,
           70,
           30,
           72,
           66,
           115,
           2,
           74,
           52,
           178,
           75,
           3,
           3,
           53,
           64,
           69,
           107,
           7,
           4,
           74,
           2,
           178,
           31,
           121,
           66,
           4,
           65,
           6,
           30,
           115,
           7,
           178,
           74,
           65,
           65,
           32,
           52,
           162,
           74,
           30,
           64,
           4,
           69,
           55,
           178,
           115,
           32,
           75,
           66,
           3,
           53,
           53,
           121,
           71,
           53,
           32,
           3,
           70,
           51,
           70,
           55,
           53,
           71,
           178,
           7,
           178,
           31,
           72,
           72,
           115,
           52,
           134,
           65,
           31,
           178,
           69,
           55,
           8,
           69,
           7,
           134,
           52,
           71,
           2,
           30,
           31,
           134,
           115,
           3,
           3,
           30,
           32,
           4,
           30,
           75,
           107,
           6,
           74,
           66,
           70,
           75,
           30,
           178,
           3,
           6,
           70,
           66,
           55,
           69,
           71,
           3,
           4,
           51,
           75,
           31,
           178,
           31,
           178,
           6,
           55,
           74,
           52,
           75,
           65,
           52,
           32,
           178,
           178,
           30,
           65,
           64,
           2,
           70,
           75,
           74,
           70,
           7,
           115,
           107,
           178,
           75,
           8,
           70,
           66,
           3,
           75,
           8,
           51,
           7,
           53,
           74,
           6,
           107,
           178,
           178,
           4,
           72,
           2,
           3,
           66,
           71,
           69,
           32,
           75,
           8,
           2,
           107,
           75,
           32,
           4,
           51,
           178,
           178,
           70,
           64,
           72,
           72,
           55,
           178,
           74,
           178,
           51,
           115,
           7,
           55,
           2,
           3,
           69,
           53,
           65,
           4,
           70,
           4,
           52,
           2,
           178,
           8,
           51,
           65,
           2,
           71,
           70,
           107,
           107,
           178,
           134,
           64,
           64,
           64,
           30,
           32,
           33,
           64,
           66,
           65,
           31,
           107,
           31,
           178,
           2,
           6,
           33,
           6,
           71,
           74,
           8,
           64,
           72,
           53,
           121,
           70,
           32,
           53,
           65,
           72,
           69,
           65,
           55,
           4,
           8,
           52,
           7,
           7,
           7,
           52,
           51,
           55,
           75,
           2,
           134,
           52,
           75,
           70,
           30,
           33,
           33,
           134,
           134,
           6,
           55,
           33,
           33,
           33
          ],
          "coloraxis": "coloraxis"
         },
         "mode": "markers",
         "name": "",
         "showlegend": false,
         "subplot": "mapbox",
         "type": "scattermapbox"
        }
       ],
       "layout": {
        "coloraxis": {
         "colorbar": {
          "title": {
           "text": "but_region_idr_region"
          }
         },
         "colorscale": [
          [
           0,
           "#0d0887"
          ],
          [
           0.1111111111111111,
           "#46039f"
          ],
          [
           0.2222222222222222,
           "#7201a8"
          ],
          [
           0.3333333333333333,
           "#9c179e"
          ],
          [
           0.4444444444444444,
           "#bd3786"
          ],
          [
           0.5555555555555556,
           "#d8576b"
          ],
          [
           0.6666666666666666,
           "#ed7953"
          ],
          [
           0.7777777777777778,
           "#fb9f3a"
          ],
          [
           0.8888888888888888,
           "#fdca26"
          ],
          [
           1,
           "#f0f921"
          ]
         ]
        },
        "legend": {
         "tracegroupgap": 0
        },
        "mapbox": {
         "center": {
          "lat": 48.8566,
          "lon": 2.3522
         },
         "domain": {
          "x": [
           0,
           1
          ],
          "y": [
           0,
           1
          ]
         },
         "style": "open-street-map",
         "zoom": 11
        },
        "margin": {
         "t": 60
        },
        "template": {
         "data": {
          "bar": [
           {
            "error_x": {
             "color": "#2a3f5f"
            },
            "error_y": {
             "color": "#2a3f5f"
            },
            "marker": {
             "line": {
              "color": "#E5ECF6",
              "width": 0.5
             },
             "pattern": {
              "fillmode": "overlay",
              "size": 10,
              "solidity": 0.2
             }
            },
            "type": "bar"
           }
          ],
          "barpolar": [
           {
            "marker": {
             "line": {
              "color": "#E5ECF6",
              "width": 0.5
             },
             "pattern": {
              "fillmode": "overlay",
              "size": 10,
              "solidity": 0.2
             }
            },
            "type": "barpolar"
           }
          ],
          "carpet": [
           {
            "aaxis": {
             "endlinecolor": "#2a3f5f",
             "gridcolor": "white",
             "linecolor": "white",
             "minorgridcolor": "white",
             "startlinecolor": "#2a3f5f"
            },
            "baxis": {
             "endlinecolor": "#2a3f5f",
             "gridcolor": "white",
             "linecolor": "white",
             "minorgridcolor": "white",
             "startlinecolor": "#2a3f5f"
            },
            "type": "carpet"
           }
          ],
          "choropleth": [
           {
            "colorbar": {
             "outlinewidth": 0,
             "ticks": ""
            },
            "type": "choropleth"
           }
          ],
          "contour": [
           {
            "colorbar": {
             "outlinewidth": 0,
             "ticks": ""
            },
            "colorscale": [
             [
              0,
              "#0d0887"
             ],
             [
              0.1111111111111111,
              "#46039f"
             ],
             [
              0.2222222222222222,
              "#7201a8"
             ],
             [
              0.3333333333333333,
              "#9c179e"
             ],
             [
              0.4444444444444444,
              "#bd3786"
             ],
             [
              0.5555555555555556,
              "#d8576b"
             ],
             [
              0.6666666666666666,
              "#ed7953"
             ],
             [
              0.7777777777777778,
              "#fb9f3a"
             ],
             [
              0.8888888888888888,
              "#fdca26"
             ],
             [
              1,
              "#f0f921"
             ]
            ],
            "type": "contour"
           }
          ],
          "contourcarpet": [
           {
            "colorbar": {
             "outlinewidth": 0,
             "ticks": ""
            },
            "type": "contourcarpet"
           }
          ],
          "heatmap": [
           {
            "colorbar": {
             "outlinewidth": 0,
             "ticks": ""
            },
            "colorscale": [
             [
              0,
              "#0d0887"
             ],
             [
              0.1111111111111111,
              "#46039f"
             ],
             [
              0.2222222222222222,
              "#7201a8"
             ],
             [
              0.3333333333333333,
              "#9c179e"
             ],
             [
              0.4444444444444444,
              "#bd3786"
             ],
             [
              0.5555555555555556,
              "#d8576b"
             ],
             [
              0.6666666666666666,
              "#ed7953"
             ],
             [
              0.7777777777777778,
              "#fb9f3a"
             ],
             [
              0.8888888888888888,
              "#fdca26"
             ],
             [
              1,
              "#f0f921"
             ]
            ],
            "type": "heatmap"
           }
          ],
          "heatmapgl": [
           {
            "colorbar": {
             "outlinewidth": 0,
             "ticks": ""
            },
            "colorscale": [
             [
              0,
              "#0d0887"
             ],
             [
              0.1111111111111111,
              "#46039f"
             ],
             [
              0.2222222222222222,
              "#7201a8"
             ],
             [
              0.3333333333333333,
              "#9c179e"
             ],
             [
              0.4444444444444444,
              "#bd3786"
             ],
             [
              0.5555555555555556,
              "#d8576b"
             ],
             [
              0.6666666666666666,
              "#ed7953"
             ],
             [
              0.7777777777777778,
              "#fb9f3a"
             ],
             [
              0.8888888888888888,
              "#fdca26"
             ],
             [
              1,
              "#f0f921"
             ]
            ],
            "type": "heatmapgl"
           }
          ],
          "histogram": [
           {
            "marker": {
             "pattern": {
              "fillmode": "overlay",
              "size": 10,
              "solidity": 0.2
             }
            },
            "type": "histogram"
           }
          ],
          "histogram2d": [
           {
            "colorbar": {
             "outlinewidth": 0,
             "ticks": ""
            },
            "colorscale": [
             [
              0,
              "#0d0887"
             ],
             [
              0.1111111111111111,
              "#46039f"
             ],
             [
              0.2222222222222222,
              "#7201a8"
             ],
             [
              0.3333333333333333,
              "#9c179e"
             ],
             [
              0.4444444444444444,
              "#bd3786"
             ],
             [
              0.5555555555555556,
              "#d8576b"
             ],
             [
              0.6666666666666666,
              "#ed7953"
             ],
             [
              0.7777777777777778,
              "#fb9f3a"
             ],
             [
              0.8888888888888888,
              "#fdca26"
             ],
             [
              1,
              "#f0f921"
             ]
            ],
            "type": "histogram2d"
           }
          ],
          "histogram2dcontour": [
           {
            "colorbar": {
             "outlinewidth": 0,
             "ticks": ""
            },
            "colorscale": [
             [
              0,
              "#0d0887"
             ],
             [
              0.1111111111111111,
              "#46039f"
             ],
             [
              0.2222222222222222,
              "#7201a8"
             ],
             [
              0.3333333333333333,
              "#9c179e"
             ],
             [
              0.4444444444444444,
              "#bd3786"
             ],
             [
              0.5555555555555556,
              "#d8576b"
             ],
             [
              0.6666666666666666,
              "#ed7953"
             ],
             [
              0.7777777777777778,
              "#fb9f3a"
             ],
             [
              0.8888888888888888,
              "#fdca26"
             ],
             [
              1,
              "#f0f921"
             ]
            ],
            "type": "histogram2dcontour"
           }
          ],
          "mesh3d": [
           {
            "colorbar": {
             "outlinewidth": 0,
             "ticks": ""
            },
            "type": "mesh3d"
           }
          ],
          "parcoords": [
           {
            "line": {
             "colorbar": {
              "outlinewidth": 0,
              "ticks": ""
             }
            },
            "type": "parcoords"
           }
          ],
          "pie": [
           {
            "automargin": true,
            "type": "pie"
           }
          ],
          "scatter": [
           {
            "fillpattern": {
             "fillmode": "overlay",
             "size": 10,
             "solidity": 0.2
            },
            "type": "scatter"
           }
          ],
          "scatter3d": [
           {
            "line": {
             "colorbar": {
              "outlinewidth": 0,
              "ticks": ""
             }
            },
            "marker": {
             "colorbar": {
              "outlinewidth": 0,
              "ticks": ""
             }
            },
            "type": "scatter3d"
           }
          ],
          "scattercarpet": [
           {
            "marker": {
             "colorbar": {
              "outlinewidth": 0,
              "ticks": ""
             }
            },
            "type": "scattercarpet"
           }
          ],
          "scattergeo": [
           {
            "marker": {
             "colorbar": {
              "outlinewidth": 0,
              "ticks": ""
             }
            },
            "type": "scattergeo"
           }
          ],
          "scattergl": [
           {
            "marker": {
             "colorbar": {
              "outlinewidth": 0,
              "ticks": ""
             }
            },
            "type": "scattergl"
           }
          ],
          "scattermapbox": [
           {
            "marker": {
             "colorbar": {
              "outlinewidth": 0,
              "ticks": ""
             }
            },
            "type": "scattermapbox"
           }
          ],
          "scatterpolar": [
           {
            "marker": {
             "colorbar": {
              "outlinewidth": 0,
              "ticks": ""
             }
            },
            "type": "scatterpolar"
           }
          ],
          "scatterpolargl": [
           {
            "marker": {
             "colorbar": {
              "outlinewidth": 0,
              "ticks": ""
             }
            },
            "type": "scatterpolargl"
           }
          ],
          "scatterternary": [
           {
            "marker": {
             "colorbar": {
              "outlinewidth": 0,
              "ticks": ""
             }
            },
            "type": "scatterternary"
           }
          ],
          "surface": [
           {
            "colorbar": {
             "outlinewidth": 0,
             "ticks": ""
            },
            "colorscale": [
             [
              0,
              "#0d0887"
             ],
             [
              0.1111111111111111,
              "#46039f"
             ],
             [
              0.2222222222222222,
              "#7201a8"
             ],
             [
              0.3333333333333333,
              "#9c179e"
             ],
             [
              0.4444444444444444,
              "#bd3786"
             ],
             [
              0.5555555555555556,
              "#d8576b"
             ],
             [
              0.6666666666666666,
              "#ed7953"
             ],
             [
              0.7777777777777778,
              "#fb9f3a"
             ],
             [
              0.8888888888888888,
              "#fdca26"
             ],
             [
              1,
              "#f0f921"
             ]
            ],
            "type": "surface"
           }
          ],
          "table": [
           {
            "cells": {
             "fill": {
              "color": "#EBF0F8"
             },
             "line": {
              "color": "white"
             }
            },
            "header": {
             "fill": {
              "color": "#C8D4E3"
             },
             "line": {
              "color": "white"
             }
            },
            "type": "table"
           }
          ]
         },
         "layout": {
          "annotationdefaults": {
           "arrowcolor": "#2a3f5f",
           "arrowhead": 0,
           "arrowwidth": 1
          },
          "autotypenumbers": "strict",
          "coloraxis": {
           "colorbar": {
            "outlinewidth": 0,
            "ticks": ""
           }
          },
          "colorscale": {
           "diverging": [
            [
             0,
             "#8e0152"
            ],
            [
             0.1,
             "#c51b7d"
            ],
            [
             0.2,
             "#de77ae"
            ],
            [
             0.3,
             "#f1b6da"
            ],
            [
             0.4,
             "#fde0ef"
            ],
            [
             0.5,
             "#f7f7f7"
            ],
            [
             0.6,
             "#e6f5d0"
            ],
            [
             0.7,
             "#b8e186"
            ],
            [
             0.8,
             "#7fbc41"
            ],
            [
             0.9,
             "#4d9221"
            ],
            [
             1,
             "#276419"
            ]
           ],
           "sequential": [
            [
             0,
             "#0d0887"
            ],
            [
             0.1111111111111111,
             "#46039f"
            ],
            [
             0.2222222222222222,
             "#7201a8"
            ],
            [
             0.3333333333333333,
             "#9c179e"
            ],
            [
             0.4444444444444444,
             "#bd3786"
            ],
            [
             0.5555555555555556,
             "#d8576b"
            ],
            [
             0.6666666666666666,
             "#ed7953"
            ],
            [
             0.7777777777777778,
             "#fb9f3a"
            ],
            [
             0.8888888888888888,
             "#fdca26"
            ],
            [
             1,
             "#f0f921"
            ]
           ],
           "sequentialminus": [
            [
             0,
             "#0d0887"
            ],
            [
             0.1111111111111111,
             "#46039f"
            ],
            [
             0.2222222222222222,
             "#7201a8"
            ],
            [
             0.3333333333333333,
             "#9c179e"
            ],
            [
             0.4444444444444444,
             "#bd3786"
            ],
            [
             0.5555555555555556,
             "#d8576b"
            ],
            [
             0.6666666666666666,
             "#ed7953"
            ],
            [
             0.7777777777777778,
             "#fb9f3a"
            ],
            [
             0.8888888888888888,
             "#fdca26"
            ],
            [
             1,
             "#f0f921"
            ]
           ]
          },
          "colorway": [
           "#636efa",
           "#EF553B",
           "#00cc96",
           "#ab63fa",
           "#FFA15A",
           "#19d3f3",
           "#FF6692",
           "#B6E880",
           "#FF97FF",
           "#FECB52"
          ],
          "font": {
           "color": "#2a3f5f"
          },
          "geo": {
           "bgcolor": "white",
           "lakecolor": "white",
           "landcolor": "#E5ECF6",
           "showlakes": true,
           "showland": true,
           "subunitcolor": "white"
          },
          "hoverlabel": {
           "align": "left"
          },
          "hovermode": "closest",
          "mapbox": {
           "style": "light"
          },
          "paper_bgcolor": "white",
          "plot_bgcolor": "#E5ECF6",
          "polar": {
           "angularaxis": {
            "gridcolor": "white",
            "linecolor": "white",
            "ticks": ""
           },
           "bgcolor": "#E5ECF6",
           "radialaxis": {
            "gridcolor": "white",
            "linecolor": "white",
            "ticks": ""
           }
          },
          "scene": {
           "xaxis": {
            "backgroundcolor": "#E5ECF6",
            "gridcolor": "white",
            "gridwidth": 2,
            "linecolor": "white",
            "showbackground": true,
            "ticks": "",
            "zerolinecolor": "white"
           },
           "yaxis": {
            "backgroundcolor": "#E5ECF6",
            "gridcolor": "white",
            "gridwidth": 2,
            "linecolor": "white",
            "showbackground": true,
            "ticks": "",
            "zerolinecolor": "white"
           },
           "zaxis": {
            "backgroundcolor": "#E5ECF6",
            "gridcolor": "white",
            "gridwidth": 2,
            "linecolor": "white",
            "showbackground": true,
            "ticks": "",
            "zerolinecolor": "white"
           }
          },
          "shapedefaults": {
           "line": {
            "color": "#2a3f5f"
           }
          },
          "ternary": {
           "aaxis": {
            "gridcolor": "white",
            "linecolor": "white",
            "ticks": ""
           },
           "baxis": {
            "gridcolor": "white",
            "linecolor": "white",
            "ticks": ""
           },
           "bgcolor": "#E5ECF6",
           "caxis": {
            "gridcolor": "white",
            "linecolor": "white",
            "ticks": ""
           }
          },
          "title": {
           "x": 0.05
          },
          "xaxis": {
           "automargin": true,
           "gridcolor": "white",
           "linecolor": "white",
           "ticks": "",
           "title": {
            "standoff": 15
           },
           "zerolinecolor": "white",
           "zerolinewidth": 2
          },
          "yaxis": {
           "automargin": true,
           "gridcolor": "white",
           "linecolor": "white",
           "ticks": "",
           "title": {
            "standoff": 15
           },
           "zerolinecolor": "white",
           "zerolinewidth": 2
          }
         }
        }
       }
      }
     },
     "metadata": {},
     "output_type": "display_data"
    }
   ],
   "source": [
    "fig = px.scatter_mapbox(\n",
    "    df_bu_feat, \n",
    "    lat=\"but_latitude\", \n",
    "    lon=\"but_longitude\",     \n",
    "    color=\"but_region_idr_region\",\n",
    "    zoom=11,\n",
    "    center=dict(lat=48.8566, lon=2.3522),\n",
    "    )\n",
    "fig.update_layout(mapbox_style=\"open-street-map\",\n",
    "                )\n",
    "fig.show()"
   ]
  },
  {
   "cell_type": "markdown",
   "metadata": {},
   "source": [
    "Je reconnais l'emplacement des magasins proches de chez moi : Rive Gauche et Porte de Montreuil."
   ]
  }
 ],
 "metadata": {
  "kernelspec": {
   "display_name": ".venv",
   "language": "python",
   "name": "python3"
  },
  "language_info": {
   "codemirror_mode": {
    "name": "ipython",
    "version": 3
   },
   "file_extension": ".py",
   "mimetype": "text/x-python",
   "name": "python",
   "nbconvert_exporter": "python",
   "pygments_lexer": "ipython3",
   "version": "3.10.1"
  }
 },
 "nbformat": 4,
 "nbformat_minor": 2
}
